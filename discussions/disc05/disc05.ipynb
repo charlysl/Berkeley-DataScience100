{
 "cells": [
  {
   "cell_type": "markdown",
   "metadata": {},
   "source": [
    "# Discussion 5 Supplemental Notebook"
   ]
  },
  {
   "cell_type": "code",
   "execution_count": 9,
   "metadata": {},
   "outputs": [],
   "source": [
    "import re"
   ]
  },
  {
   "cell_type": "code",
   "execution_count": 10,
   "metadata": {},
   "outputs": [],
   "source": [
    "class NotStringError(Exception):\n",
    "    pass\n",
    "\n",
    "def find_matches(text_list, regex):\n",
    "    if not isinstance(text_list, list):\n",
    "        text_list = [text_list]\n",
    "    \n",
    "    for i, text in enumerate(text_list):\n",
    "        if not isinstance(text, str):\n",
    "             raise NotStringError(f'The {i}th item is not a string.')\n",
    "    \n",
    "    matches = [re.search(regex, text) for text in text_list]\n",
    "        \n",
    "    return [None if match is None else match[0] for match in matches]\n",
    "    "
   ]
  },
  {
   "cell_type": "markdown",
   "metadata": {},
   "source": [
    "# Regular Expressions\n",
    "\n",
    "## Question 1\n",
    "\n",
    "### Kernel Density Estimation\n",
    "We wish to compare the results of kernel density estimation using a gaussian kernel and aboxcar kernel. For $α >0$, which of the following statements are true? Choose all that apply.  \n",
    "\n",
    "Gaussian Kernel:\n",
    "\n",
    "$$K_{\\alpha}(x,z) = \\frac{1}{\\sqrt{2 \\pi \\alpha{^2}}}e^{-\\frac{(x-z)^2}{2\\alpha^2}}$$\n",
    "\n",
    "Boxcar Kernel:\n",
    "\n",
    "\\begin{align*}\n",
    "    B_{\\alpha}(x,z) = \\begin{cases}\n",
    "                            \\frac{1}{\\alpha}\\ if\\ -\\frac{\\alpha}{2} < x-z < \\frac{\\alpha}{2} \\\\\n",
    "                            0\\ else\n",
    "                      \\end{cases}\n",
    "\\end{align*}\n",
    "                     \n",
    "\n",
    "How to write in Latex a multiple line left brace: [https://tex.stackexchange.com/questions/122778/left-brace-including-several-lines-in-eqnarray](https://tex.stackexchange.com/questions/122778/left-brace-including-several-lines-in-eqnarray)\n",
    "\n",
    "A.  Decreasing $α$ for a gaussian kernel decreases the smoothness of the KDE.  \n",
    "B.  The gaussian kernel is always better than the boxcar kernel for KDEs.  \n",
    "C.  Because the gaussian kernel is smooth, we can safely use large $α$ values for kernel density estimation without worrying about the actual distribution of data.\n",
    "D.  The area under the box car kernel is 1, regardless of the value of $α$.  \n",
    "E.  None of the above. \n",
    "\n",
    "##### Answer:\n",
    "\n",
    "A and D are true.  \n",
    "\n",
    "A: $\\alpha$ is the standard deviation, so the smaller it is the narrower the gaussian, and the less smooth the KDE.  \n",
    "B: The gaussian kernel requires more computation, so if there are many points it might be too slow.  \n",
    "C: The value of $\\alpha$ should be chosen for each distribution, if the points were close and it was too smooth then the distribution wouldn't be visible.  \n",
    "D: Its width is always $\\alpha$ and its height is always $\\frac{1}{\\alpha}$, so its area is always one.  \n"
   ]
  },
  {
   "cell_type": "markdown",
   "metadata": {},
   "source": [
    "## Question 2"
   ]
  },
  {
   "cell_type": "code",
   "execution_count": 3,
   "metadata": {},
   "outputs": [
    {
     "data": {
      "text/plain": [
       "[None, '11', None]"
      ]
     },
     "execution_count": 3,
     "metadata": {},
     "output_type": "execute_result"
    }
   ],
   "source": [
    "texts = ['What is 1+1?', 'Make a wish at 11:11', '111 Ways to Succeed']\n",
    "regex = r'1+1$'\n",
    "find_matches(texts, regex)"
   ]
  },
  {
   "cell_type": "markdown",
   "metadata": {},
   "source": [
    "## Question 3"
   ]
  },
  {
   "cell_type": "code",
   "execution_count": 5,
   "metadata": {},
   "outputs": [],
   "source": [
    "records = [\n",
    "    '<record> Samuel Lau <samlau95@gmail.com> Faculty </record>',\n",
    "    '<record> Manana Hakobyan <manana.hakobyan@berkeley.edu> TA </record>'\n",
    "]\n",
    "regex1 = r'<.*@.*>'\n",
    "regex2 = r'<[^<]*@[^>]*>'\n",
    "regex3 = r'<.*@\\w+\\..*>'"
   ]
  },
  {
   "cell_type": "code",
   "execution_count": 6,
   "metadata": {},
   "outputs": [
    {
     "data": {
      "text/plain": [
       "['<record> Samuel Lau <samlau95@gmail.com> Faculty </record>',\n",
       " '<record> Manana Hakobyan <manana.hakobyan@berkeley.edu> TA </record>']"
      ]
     },
     "execution_count": 6,
     "metadata": {},
     "output_type": "execute_result"
    }
   ],
   "source": [
    "find_matches(records, regex1)"
   ]
  },
  {
   "cell_type": "code",
   "execution_count": 7,
   "metadata": {},
   "outputs": [
    {
     "data": {
      "text/plain": [
       "['<samlau95@gmail.com>', '<manana.hakobyan@berkeley.edu>']"
      ]
     },
     "execution_count": 7,
     "metadata": {},
     "output_type": "execute_result"
    }
   ],
   "source": [
    "find_matches(records, regex2)"
   ]
  },
  {
   "cell_type": "code",
   "execution_count": 8,
   "metadata": {},
   "outputs": [
    {
     "data": {
      "text/plain": [
       "['<record> Samuel Lau <samlau95@gmail.com> Faculty </record>',\n",
       " '<record> Manana Hakobyan <manana.hakobyan@berkeley.edu> TA </record>']"
      ]
     },
     "execution_count": 8,
     "metadata": {},
     "output_type": "execute_result"
    }
   ],
   "source": [
    "find_matches(records, regex3)"
   ]
  },
  {
   "cell_type": "markdown",
   "metadata": {},
   "source": [
    "## Question 4\n",
    "For each pattern specify the starting and ending position of the first match in the string.  The index starts at zero and we are using closed intervals (both endpoints are included).\n",
    "\n",
    "| regex     | str2    |  str3 | str4   |   str5   |\n",
    "|-----------|:-------:|:-----:|:------:|---------:|\n",
    "| -         | abcdefg | abcs! | ab abc | abc, 123 |\n",
    "| abc*      | [0,2]   | [0,2] | [0,1]  | [0,2]    |\n",
    "| [ˆ\\s]+    | [0,6]   | [0,4] | [0,1]  | [0,3]    |\n",
    "| ab.*c     | [0,2]   | [0,2] | [0,5]  | [0,2]    |\n",
    "| [a-z1,9]+ | [0,6]   | [0,3] | [0,1]  | [0,3]    |"
   ]
  },
  {
   "cell_type": "code",
   "execution_count": 43,
   "metadata": {},
   "outputs": [
    {
     "data": {
      "text/plain": [
       "[('abc*', 'abcdefg', 0, 2),\n",
       " ('abc*', 'abcs!', 0, 2),\n",
       " ('abc*', 'ab abc', 0, 1),\n",
       " ('abc*', 'abc, 123', 0, 2),\n",
       " ('[^\\\\s]+', 'abcdefg', 0, 6),\n",
       " ('[^\\\\s]+', 'abcs!', 0, 4),\n",
       " ('[^\\\\s]+', 'ab abc', 0, 1),\n",
       " ('[^\\\\s]+', 'abc, 123', 0, 3),\n",
       " ('ab.*c', 'abcdefg', 0, 2),\n",
       " ('ab.*c', 'abcs!', 0, 2),\n",
       " ('ab.*c', 'ab abc', 0, 5),\n",
       " ('ab.*c', 'abc, 123', 0, 2),\n",
       " ('[a-z1,9]+', 'abcdefg', 0, 6),\n",
       " ('[a-z1,9]+', 'abcs!', 0, 3),\n",
       " ('[a-z1,9]+', 'ab abc', 0, 1),\n",
       " ('[a-z1,9]+', 'abc, 123', 0, 3)]"
      ]
     },
     "execution_count": 43,
     "metadata": {},
     "output_type": "execute_result"
    }
   ],
   "source": [
    "strs = ['abcdefg', 'abcs!', 'ab abc', 'abc, 123']\n",
    "res = [r'abc*', r'[^\\s]+', r'ab.*c', r'[a-z1,9]+']\n",
    "[(lambda p,s,t: (x,y,t[0],t[1]-1))(x,y,re.search(x, y).span()) for x in res for y in strs]"
   ]
  },
  {
   "cell_type": "markdown",
   "metadata": {},
   "source": [
    "## Question 5"
   ]
  },
  {
   "cell_type": "markdown",
   "metadata": {},
   "source": [
    "Write a regular expression that matches strings (including the empty string) that only contain lowercase letters and numbers.  \n",
    "##### Answer:"
   ]
  },
  {
   "cell_type": "code",
   "execution_count": 61,
   "metadata": {},
   "outputs": [
    {
     "data": {
      "text/plain": [
       "<re.Match object; span=(0, 3), match='b1a'>"
      ]
     },
     "execution_count": 61,
     "metadata": {},
     "output_type": "execute_result"
    }
   ],
   "source": [
    "re.search('^[a-z0-9]*$', \"b1a\")"
   ]
  },
  {
   "cell_type": "code",
   "execution_count": 57,
   "metadata": {},
   "outputs": [
    {
     "data": {
      "text/plain": [
       "()"
      ]
     },
     "execution_count": 57,
     "metadata": {},
     "output_type": "execute_result"
    }
   ],
   "source": [
    "regex5 = '^[a-z0-9]*$'\n",
    "# only matches strings containing lowercase letters and numbers.\n",
    "re.search(regex5, 'fre34eio25u').groups()"
   ]
  },
  {
   "cell_type": "code",
   "execution_count": 58,
   "metadata": {},
   "outputs": [
    {
     "data": {
      "text/plain": [
       "['fre34eio25u']"
      ]
     },
     "execution_count": 58,
     "metadata": {},
     "output_type": "execute_result"
    }
   ],
   "source": [
    "# lowercase letters and numbers only\n",
    "string = 'fre34eio25u'\n",
    "find_matches(string, regex5)"
   ]
  },
  {
   "cell_type": "code",
   "execution_count": 59,
   "metadata": {},
   "outputs": [
    {
     "data": {
      "text/plain": [
       "[None]"
      ]
     },
     "execution_count": 59,
     "metadata": {},
     "output_type": "execute_result"
    }
   ],
   "source": [
    "# Some uppercase letters and numbers\n",
    "string = 'freFB34eio25u'\n",
    "find_matches(string, regex5)"
   ]
  },
  {
   "cell_type": "code",
   "execution_count": 60,
   "metadata": {},
   "outputs": [
    {
     "data": {
      "text/plain": [
       "['frank']"
      ]
     },
     "execution_count": 60,
     "metadata": {},
     "output_type": "execute_result"
    }
   ],
   "source": [
    "# lowercase letters only\n",
    "string = 'frank'\n",
    "find_matches(string, regex5)"
   ]
  },
  {
   "cell_type": "code",
   "execution_count": 62,
   "metadata": {},
   "outputs": [
    {
     "data": {
      "text/plain": [
       "[None]"
      ]
     },
     "execution_count": 62,
     "metadata": {},
     "output_type": "execute_result"
    }
   ],
   "source": [
    "# A mixture of letters, numbers and symbols\n",
    "string = 'bab126ebi%^bobu88b'\n",
    "find_matches(string, regex5)"
   ]
  },
  {
   "cell_type": "markdown",
   "metadata": {},
   "source": [
    "## Question 6\n",
    "##### Answer:"
   ]
  },
  {
   "cell_type": "code",
   "execution_count": 73,
   "metadata": {},
   "outputs": [
    {
     "data": {
      "text/plain": [
       "<re.Match object; span=(0, 16), match='fffffadEdDd iou '>"
      ]
     },
     "execution_count": 73,
     "metadata": {},
     "output_type": "execute_result"
    }
   ],
   "source": [
    "re.search(r'^([^aeiouAEIOU]*[aeiouAEIOU]){5}[^aeiouAEIOU]*$', \"fffffadEdDd iou \")"
   ]
  },
  {
   "cell_type": "code",
   "execution_count": 75,
   "metadata": {},
   "outputs": [
    {
     "data": {
      "text/plain": [
       "('u',)"
      ]
     },
     "execution_count": 75,
     "metadata": {},
     "output_type": "execute_result"
    }
   ],
   "source": [
    "regex6 = '^([^aeiouAEIOU]*[aeiouAEIOU]){5}[^aeiouAEIOU]*$'\n",
    "# If a group matches multiple times, only the last match is accessible\n",
    "re.search(regex6, 'baeiou').groups()"
   ]
  },
  {
   "cell_type": "code",
   "execution_count": 76,
   "metadata": {},
   "outputs": [
    {
     "data": {
      "text/plain": [
       "['baeiou']"
      ]
     },
     "execution_count": 76,
     "metadata": {},
     "output_type": "execute_result"
    }
   ],
   "source": [
    "# 5 consecutive vowels\n",
    "string = 'baeiou'\n",
    "find_matches(string, regex6)"
   ]
  },
  {
   "cell_type": "code",
   "execution_count": 77,
   "metadata": {},
   "outputs": [
    {
     "data": {
      "text/plain": [
       "['babebibobub']"
      ]
     },
     "execution_count": 77,
     "metadata": {},
     "output_type": "execute_result"
    }
   ],
   "source": [
    "# 5 non-consecutive vowels\n",
    "string = 'babebibobub'\n",
    "find_matches(string, regex6)"
   ]
  },
  {
   "cell_type": "code",
   "execution_count": 78,
   "metadata": {},
   "outputs": [
    {
     "data": {
      "text/plain": [
       "[None]"
      ]
     },
     "execution_count": 78,
     "metadata": {},
     "output_type": "execute_result"
    }
   ],
   "source": [
    "# 4 vowels no match\n",
    "string = 'babebibobbb'\n",
    "find_matches(string, regex6)"
   ]
  },
  {
   "cell_type": "code",
   "execution_count": 79,
   "metadata": {},
   "outputs": [
    {
     "data": {
      "text/plain": [
       "[None]"
      ]
     },
     "execution_count": 79,
     "metadata": {},
     "output_type": "execute_result"
    }
   ],
   "source": [
    "# 6 vowels no match\n",
    "string = 'aaaaaabbbbbb'\n",
    "find_matches(string, regex6)"
   ]
  },
  {
   "cell_type": "markdown",
   "metadata": {},
   "source": [
    "## Question 7\n",
    "##### Answer:"
   ]
  },
  {
   "cell_type": "code",
   "execution_count": 80,
   "metadata": {},
   "outputs": [
    {
     "data": {
      "text/plain": [
       "'123 orongo Stroot'"
      ]
     },
     "execution_count": 80,
     "metadata": {},
     "output_type": "execute_result"
    }
   ],
   "source": [
    "re.sub('[aeiouAEIOU]', 'o','123 Orange Street')"
   ]
  },
  {
   "cell_type": "code",
   "execution_count": null,
   "metadata": {},
   "outputs": [],
   "source": [
    "address = \"123 Orange Street\"\n",
    "regex7 = r\"[aeiouAEIOU]\"\n",
    "re.sub(regex7, \"o\", address)"
   ]
  },
  {
   "cell_type": "markdown",
   "metadata": {},
   "source": [
    "## Question 8"
   ]
  },
  {
   "cell_type": "code",
   "execution_count": 83,
   "metadata": {},
   "outputs": [
    {
     "data": {
      "text/plain": [
       "['10', '11', '12', '1']"
      ]
     },
     "execution_count": 83,
     "metadata": {},
     "output_type": "execute_result"
    }
   ],
   "source": [
    "re.findall(r'[0-9]+', 'October 10, November 11, December 12, January 1')"
   ]
  },
  {
   "cell_type": "code",
   "execution_count": 82,
   "metadata": {},
   "outputs": [
    {
     "data": {
      "text/plain": [
       "['10', '11', '12', '1']"
      ]
     },
     "execution_count": 82,
     "metadata": {},
     "output_type": "execute_result"
    }
   ],
   "source": [
    "dates = 'October 10, November 11, December 12, January 1'\n",
    "regex8 = '[0-9]+'\n",
    "re.findall(regex8, dates)"
   ]
  },
  {
   "cell_type": "markdown",
   "metadata": {},
   "source": [
    "## Question 9\n",
    "Given the following text in a variable `log`:  \n",
    "  \n",
    "`169.237.46.168 - - [26/Jan/2014:10:47:58 -0800]  \n",
    "\"GET/stat141/Winter04/HTTP/1.1\" 200 2585\"  \n",
    "http://anson.ucdavis.edu/courses/\"` \n",
    "  \n",
    "Fill in the regular expression in the variable `pattern` below so that after it executes, day is 26, month is Jan, and year is 2014.  \n",
    "  \n",
    "`pattern = ...  \n",
    "matches = re.findall(pattern, log)  \n",
    "day, month, year = matches[0]`\n",
    "  \n",
    "##### Answer:"
   ]
  },
  {
   "cell_type": "code",
   "execution_count": 107,
   "metadata": {},
   "outputs": [
    {
     "name": "stdout",
     "output_type": "stream",
     "text": [
      "26 Jan 2014\n"
     ]
    }
   ],
   "source": [
    "log = '169.237.46.168 - - [26/Jan/2014:10:47:58 -0800] '\\\n",
    "      '\"GET/stat141/Winter04/HTTP/1.1\" 200 2585 '\\\n",
    "      '\"http://anson.ucdavis.edu/courses/\"'\n",
    "pattern = r'\\[(\\d{1,2})/(\\w{3})/(\\d{4})'\n",
    "matches = re.findall(pattern, log)\n",
    "day, month, year = matches[0]\n",
    "print(day, month, year)"
   ]
  },
  {
   "attachments": {
    "image.png": {
     "image/png": "[encoded data removed]"
    }
   },
   "cell_type": "markdown",
   "metadata": {},
   "source": [
    "# SQL\n",
    "![image.png](attachment:image.png)\n",
    "Note: You do not always have to use the `JOIN` keyword to join sql tables.  The following are equivalent:  \n",
    "\n",
    "`SELECT column1, column2`  \n",
    "`FROM table1, table2`  \n",
    "`WHERE table1.id = table2.id;`  \n",
    "  \n",
    "`SELECT column1, column2`  \n",
    "`FROM table1 JOIN table2 ON table1.id = table2.id;` \n",
    "\n",
    "## Question 10\n",
    "Describe which records are returned from each type of join.\n",
    "\n",
    "##### Answer:\n",
    "\n",
    "- Inner Join: records from both tables that have the same id\n",
    "- Left Join: like the Inner Join, and all the remaining records from table1\n",
    "- Right Join: ..., ... table2\n",
    "- Full Outer Join: like Inner Join, and all the remaing records from both tables\n",
    "\n",
    "## Question 11\n",
    "Consider the following real estate schema: \n",
    "  \n",
    "`Homes(home_id int, city text, bedrooms int, bathrooms int, area int)`  \n",
    "`Transactions(home_id int, buyer_id int, seller_id int,transaction_date date, sale_price int)`  \n",
    "`Buyers(buyer_id int, name text)`  \n",
    "`Sellers(seller_id int, name text)` \n",
    "  \n",
    "Fill in the blanks in the SQL query to find the id and selling price for each home in Berkeley.  \n",
    "If the home has not ben sold yet, **the price should be NULL**.  \n",
    "  \n",
    "##### Answer:  \n",
    "  \n",
    "`SELECT home_id, sale_price`  \n",
    "`FROM Homes`  \n",
    "`LEFT JOIN Transactions`  \n",
    "`ON Homes.home_id = Transactions.home_id`  \n",
    "\n"
   ]
  }
 ],
 "metadata": {
  "kernelspec": {
   "display_name": "Python 3",
   "language": "python",
   "name": "python3"
  },
  "language_info": {
   "codemirror_mode": {
    "name": "ipython",
    "version": 3
   },
   "file_extension": ".py",
   "mimetype": "text/x-python",
   "name": "python",
   "nbconvert_exporter": "python",
   "pygments_lexer": "ipython3",
   "version": "3.7.3"
  }
 },
 "nbformat": 4,
 "nbformat_minor": 2
}
